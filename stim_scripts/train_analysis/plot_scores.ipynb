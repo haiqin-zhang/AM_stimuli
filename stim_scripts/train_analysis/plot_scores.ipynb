{
 "cells": [
  {
   "cell_type": "code",
   "execution_count": 1,
   "metadata": {},
   "outputs": [
    {
     "name": "stderr",
     "output_type": "stream",
     "text": [
      "/var/folders/18/hp_602x50x34x_4p_qjc80g40000gn/T/ipykernel_57537/110015356.py:2: DeprecationWarning: \n",
      "Pyarrow will become a required dependency of pandas in the next major release of pandas (pandas 3.0),\n",
      "(to allow more performant data types, such as the Arrow string type, and better interoperability with other libraries)\n",
      "but was not found to be installed on your system.\n",
      "If this would cause problems for you,\n",
      "please provide us feedback at https://github.com/pandas-dev/pandas/issues/54466\n",
      "        \n",
      "  import pandas as pd\n"
     ]
    }
   ],
   "source": [
    "import numpy as np\n",
    "import pandas as pd\n",
    "\n",
    "import mido\n",
    "import ast\n",
    "import scipy\n",
    "\n",
    "import matplotlib.pyplot as plt\n",
    "import seaborn as sns\n",
    "\n",
    "import glob\n",
    "import os\n"
   ]
  },
  {
   "cell_type": "code",
   "execution_count": 2,
   "metadata": {},
   "outputs": [],
   "source": [
    "scores_dir = '/Users/cindyzhang/Documents/M2/Audiomotor_Piano/AM_stimuli/stim_scripts/train_analysis/scores'\n",
    "files = sorted(glob.glob(os.path.join(scores_dir,'*.csv')))"
   ]
  },
  {
   "cell_type": "code",
   "execution_count": 3,
   "metadata": {},
   "outputs": [],
   "source": [
    "df_scores = pd.DataFrame()\n",
    "\n",
    "for file in files:\n",
    "    df = pd.read_csv(file)\n",
    "    df_scores = pd.concat([df_scores, df])\n",
    "\n",
    "subjects = df_scores['subject'].unique()\n"
   ]
  },
  {
   "cell_type": "code",
   "execution_count": 4,
   "metadata": {},
   "outputs": [],
   "source": [
    "def ave_score(score_df, period):\n",
    "    means = []\n",
    "    for subject in df_scores['subject'].unique():\n",
    "        if period == 'pre':\n",
    "            mean_sub = np.mean(df_scores[(df_scores['subject'] == subject) & (df_scores['trial_number']<=82)]['score'])\n",
    "        elif period == 'post':\n",
    "            mean_sub = np.mean(df_scores[(df_scores['subject'] == subject) & (df_scores['trial_number']>=82)]['score'])\n",
    "        elif period == 'beginning1': \n",
    "            mean_sub = np.mean(df_scores[(df_scores['subject'] == subject) & (df_scores['trial_number']<=10)]['score'])\n",
    "        elif period == 'beginning2': \n",
    "            mean_sub = np.mean(df_scores[(df_scores['subject'] == subject) & (df_scores['trial_number']>=82)& (df_scores['trial_number']<=92)]['score'])\n",
    "\n",
    "        elif period == 'all':\n",
    "            mean_sub = np.mean(df_scores[(df_scores['subject'] == subject)]['score'])\n",
    "        else:\n",
    "            print('Valid periods are pre, post, and all')\n",
    "            \n",
    "        means.append(mean_sub)\n",
    "\n",
    "    return means"
   ]
  },
  {
   "cell_type": "code",
   "execution_count": 5,
   "metadata": {},
   "outputs": [],
   "source": [
    "means_pre = ave_score(df_scores, 'pre')\n",
    "means_post = ave_score(df_scores, 'post')\n",
    "means_pre_10 = ave_score(df_scores, 'beginning1')"
   ]
  },
  {
   "cell_type": "code",
   "execution_count": 6,
   "metadata": {},
   "outputs": [
    {
     "data": {
      "text/plain": [
       "[3.81,\n",
       " 4.0,\n",
       " 3.7399999999999998,\n",
       " 3.3200000000000003,\n",
       " 3.6700000000000004,\n",
       " 3.6799999999999997,\n",
       " 4.0,\n",
       " 3.87,\n",
       " 3.9799999999999995]"
      ]
     },
     "execution_count": 6,
     "metadata": {},
     "output_type": "execute_result"
    }
   ],
   "source": [
    "means_pre_10"
   ]
  },
  {
   "cell_type": "code",
   "execution_count": null,
   "metadata": {},
   "outputs": [],
   "source": []
  },
  {
   "cell_type": "code",
   "execution_count": 7,
   "metadata": {},
   "outputs": [
    {
     "data": {
      "text/plain": [
       "Text(0, 0.5, 'Mean score')"
      ]
     },
     "execution_count": 7,
     "metadata": {},
     "output_type": "execute_result"
    },
    {
     "data": {
      "image/png": "[encoded data removed]",
      "text/plain": [
       "<Figure size 640x480 with 1 Axes>"
      ]
     },
     "metadata": {},
     "output_type": "display_data"
    }
   ],
   "source": [
    "for i in range(len(means_pre)):\n",
    "    jitter = np.random.uniform(-0.05,0.05)\n",
    "    x = [1+jitter,2+jitter] \n",
    "    plt.plot(x, [means_pre[i], means_post[i]], marker = 'o',markersize = 3, color = 'green', alpha = 0.4)\n",
    "\n",
    "\n",
    "#plt.scatter(x, [np.mean(means_pre), np.mean(means_post)], color = 'green')\n",
    "plt.xticks([1,2])\n",
    "plt.xlabel('Block')\n",
    "plt.ylabel('Mean score')"
   ]
  },
  {
   "cell_type": "code",
   "execution_count": 9,
   "metadata": {},
   "outputs": [
    {
     "data": {
      "text/plain": [
       "'#rolling ave over trials\\nsmoothness = 15\\n\\nplt.figure(figsize=(10,5))\\n\\nk = 0.25\\n\\nfor subject in subjects:\\n    colour = [0.1, k, 0.6]\\n    k+=0.1\\n    for i in range(2):\\n        rolling_corr = df_scores[(df_scores[\\'block\\']==i+1) & (df_scores[\\'subject\\'] == subject)][\\'correct\\'].rolling(smoothness).mean()\\n        plt.plot(rolling_corr, label = subject, color = colour)\\n\\n\\nplt.xlabel(\"Trial\")\\nplt.ylabel(\"Rolling average score over 10 trials\")\\n   '"
      ]
     },
     "execution_count": 9,
     "metadata": {},
     "output_type": "execute_result"
    }
   ],
   "source": [
    "\"\"\"#rolling ave over trials\n",
    "smoothness = 15\n",
    "\n",
    "plt.figure(figsize=(10,5))\n",
    "\n",
    "k = 0.25\n",
    "\n",
    "for subject in subjects:\n",
    "    colour = [0.1, k, 0.6]\n",
    "    k+=0.1\n",
    "    for i in range(2):\n",
    "        rolling_corr = df_scores[(df_scores['block']==i+1) & (df_scores['subject'] == subject)]['correct'].rolling(smoothness).mean()\n",
    "        plt.plot(rolling_corr, label = subject, color = colour)\n",
    "\n",
    "\n",
    "plt.xlabel(\"Trial\")\n",
    "plt.ylabel(\"Rolling average score over 10 trials\")\n",
    "   \"\"\""
   ]
  },
  {
   "cell_type": "code",
   "execution_count": 10,
   "metadata": {},
   "outputs": [
    {
     "data": {
      "text/plain": [
       "'sub_colour = 0.1\\nfor subject in subjects:\\n    for block in range(1,3):\\n        res_temp = df_scores[(df_scores[\\'block\\']==block) & (df_scores[\\'subject\\'] ==subject)]\\n\\n        diff_score = []\\n        for i in range(1,5):\\n            diff = res_temp[res_temp[\\'type\\'] == i]\\n            diff_score.append(np.mean(diff[\\'correct\\']))\\n            #score = np.mean(diff[\\'correct\\'])\\n            #plt.scatter(i, score, c = (0.5, 0.5, float(block)/5), cmap=\\'blues\\')\\n        if block == 1:\\n            block_style = \\'--\\'\\n        elif block ==2:\\n            block_style = \\'-\\'\\n        plt.plot(np.arange(1, 5, 1), diff_score, c = (0.5, 0.5, sub_colour), marker = \\'.\\', linestyle = block_style, label = block)\\n    sub_colour +=0.2\\n\\nplt.legend(loc = \\'upper right\\', title = \"Block\")\\nplt.ylabel(\\'Perfect response rate\\')\\nplt.xlabel(\\'Number of different notes in melody\\')\\nplt.xticks(np.arange(1, 5, 1))'"
      ]
     },
     "execution_count": 10,
     "metadata": {},
     "output_type": "execute_result"
    }
   ],
   "source": [
    "#scores sorted by difficulty\n",
    "\n",
    "\"\"\"sub_colour = 0.1\n",
    "for subject in subjects:\n",
    "    for block in range(1,3):\n",
    "        res_temp = df_scores[(df_scores['block']==block) & (df_scores['subject'] ==subject)]\n",
    "\n",
    "        diff_score = []\n",
    "        for i in range(1,5):\n",
    "            diff = res_temp[res_temp['type'] == i]\n",
    "            diff_score.append(np.mean(diff['correct']))\n",
    "            #score = np.mean(diff['correct'])\n",
    "            #plt.scatter(i, score, c = (0.5, 0.5, float(block)/5), cmap='blues')\n",
    "        if block == 1:\n",
    "            block_style = '--'\n",
    "        elif block ==2:\n",
    "            block_style = '-'\n",
    "        plt.plot(np.arange(1, 5, 1), diff_score, c = (0.5, 0.5, sub_colour), marker = '.', linestyle = block_style, label = block)\n",
    "    sub_colour +=0.2\n",
    "\n",
    "plt.legend(loc = 'upper right', title = \"Block\")\n",
    "plt.ylabel('Perfect response rate')\n",
    "plt.xlabel('Number of different notes in melody')\n",
    "plt.xticks(np.arange(1, 5, 1))\"\"\""
   ]
  },
  {
   "cell_type": "code",
   "execution_count": 11,
   "metadata": {},
   "outputs": [],
   "source": [
    "\n",
    "\n",
    "# Initialize empty lists to store data\n",
    "subjects = []\n",
    "blocks = []\n",
    "percent_corrects = []\n",
    "types = []\n",
    "\n",
    "# Loop through unique subjects and blocks\n",
    "for subject in df_scores['subject'].unique():\n",
    "    for block in range(1, 3):\n",
    "        # Calculate percent correct for the subject and block\n",
    "        for type in range(2,5):\n",
    "         percent_correct = df_scores[(df_scores['subject'] == subject) & (df_scores['block'] == block) & (df_scores['type'] == type)]['correct'].mean()\n",
    "         \n",
    "         # Append data to lists\n",
    "         subjects.append(subject)\n",
    "         blocks.append(block)\n",
    "         percent_corrects.append(percent_correct)\n",
    "         types.append(type)\n",
    "\n",
    "# Create DataFrame from lists\n",
    "correct_df = pd.DataFrame({'subject': subjects, 'block': blocks, 'type': types, 'percent_correct': percent_corrects})\n"
   ]
  },
  {
   "cell_type": "code",
   "execution_count": 12,
   "metadata": {},
   "outputs": [
    {
     "data": {
      "text/plain": [
       "Text(0, 0.5, 'Rate of perfect responses')"
      ]
     },
     "execution_count": 12,
     "metadata": {},
     "output_type": "execute_result"
    },
    {
     "data": {
      "image/png": "[encoded data removed]",
      "text/plain": [
       "<Figure size 640x480 with 1 Axes>"
      ]
     },
     "metadata": {},
     "output_type": "display_data"
    }
   ],
   "source": [
    "\n",
    "# Add individual data points\n",
    "#sns.swarmplot(data=correct_df, x='type', y='percent_correct', hue='block', color='black', dodge=True)\n",
    "# Create the boxplot\n",
    "ax = sns.boxplot(data=correct_df, x='type', y='percent_correct', hue='block', palette='pastel')\n",
    "\n",
    "# Set labels for x and y-axis\n",
    "ax.set_xlabel('Number of unique pitches in melody')\n",
    "ax.set_ylabel('Rate of perfect responses')\n"
   ]
  },
  {
   "cell_type": "code",
   "execution_count": 13,
   "metadata": {},
   "outputs": [
    {
     "data": {
      "text/html": [
       "<div>\n",
       "<style scoped>\n",
       "    .dataframe tbody tr th:only-of-type {\n",
       "        vertical-align: middle;\n",
       "    }\n",
       "\n",
       "    .dataframe tbody tr th {\n",
       "        vertical-align: top;\n",
       "    }\n",
       "\n",
       "    .dataframe thead th {\n",
       "        text-align: right;\n",
       "    }\n",
       "</style>\n",
       "<table border=\"1\" class=\"dataframe\">\n",
       "  <thead>\n",
       "    <tr style=\"text-align: right;\">\n",
       "      <th></th>\n",
       "      <th>trial_number</th>\n",
       "      <th>notes_vector</th>\n",
       "      <th>subject</th>\n",
       "      <th>target</th>\n",
       "      <th>correct</th>\n",
       "      <th>score</th>\n",
       "      <th>block</th>\n",
       "      <th>type</th>\n",
       "    </tr>\n",
       "  </thead>\n",
       "  <tbody>\n",
       "    <tr>\n",
       "      <th>0</th>\n",
       "      <td>1</td>\n",
       "      <td>[53, 59, 55, 57, 53, 55, 60, 60]</td>\n",
       "      <td>1</td>\n",
       "      <td>[60, 60, 60, 60]</td>\n",
       "      <td>0</td>\n",
       "      <td>2.4</td>\n",
       "      <td>1</td>\n",
       "      <td>1</td>\n",
       "    </tr>\n",
       "    <tr>\n",
       "      <th>1</th>\n",
       "      <td>2</td>\n",
       "      <td>[60, 60, 60, 60, 59, 58]</td>\n",
       "      <td>1</td>\n",
       "      <td>[60, 60, 60, 59]</td>\n",
       "      <td>0</td>\n",
       "      <td>3.9</td>\n",
       "      <td>1</td>\n",
       "      <td>2</td>\n",
       "    </tr>\n",
       "    <tr>\n",
       "      <th>2</th>\n",
       "      <td>3</td>\n",
       "      <td>[60, 60, 59, 59]</td>\n",
       "      <td>1</td>\n",
       "      <td>[60, 60, 59, 59]</td>\n",
       "      <td>1</td>\n",
       "      <td>4.0</td>\n",
       "      <td>1</td>\n",
       "      <td>2</td>\n",
       "    </tr>\n",
       "    <tr>\n",
       "      <th>3</th>\n",
       "      <td>4</td>\n",
       "      <td>[60, 59, 59, 60]</td>\n",
       "      <td>1</td>\n",
       "      <td>[60, 59, 59, 60]</td>\n",
       "      <td>1</td>\n",
       "      <td>4.0</td>\n",
       "      <td>1</td>\n",
       "      <td>2</td>\n",
       "    </tr>\n",
       "    <tr>\n",
       "      <th>4</th>\n",
       "      <td>5</td>\n",
       "      <td>[60, 59, 60, 59]</td>\n",
       "      <td>1</td>\n",
       "      <td>[60, 59, 60, 59]</td>\n",
       "      <td>1</td>\n",
       "      <td>4.0</td>\n",
       "      <td>1</td>\n",
       "      <td>2</td>\n",
       "    </tr>\n",
       "  </tbody>\n",
       "</table>\n",
       "</div>"
      ],
      "text/plain": [
       "   trial_number                      notes_vector  subject            target  \\\n",
       "0             1  [53, 59, 55, 57, 53, 55, 60, 60]        1  [60, 60, 60, 60]   \n",
       "1             2          [60, 60, 60, 60, 59, 58]        1  [60, 60, 60, 59]   \n",
       "2             3                  [60, 60, 59, 59]        1  [60, 60, 59, 59]   \n",
       "3             4                  [60, 59, 59, 60]        1  [60, 59, 59, 60]   \n",
       "4             5                  [60, 59, 60, 59]        1  [60, 59, 60, 59]   \n",
       "\n",
       "   correct  score  block  type  \n",
       "0        0    2.4      1     1  \n",
       "1        0    3.9      1     2  \n",
       "2        1    4.0      1     2  \n",
       "3        1    4.0      1     2  \n",
       "4        1    4.0      1     2  "
      ]
     },
     "execution_count": 13,
     "metadata": {},
     "output_type": "execute_result"
    }
   ],
   "source": [
    "df_scores.head()"
   ]
  },
  {
   "cell_type": "code",
   "execution_count": 14,
   "metadata": {},
   "outputs": [
    {
     "name": "stderr",
     "output_type": "stream",
     "text": [
      "/var/folders/18/hp_602x50x34x_4p_qjc80g40000gn/T/ipykernel_57537/1570782741.py:3: FutureWarning: \n",
      "\n",
      "The `ci` parameter is deprecated. Use `errorbar='sd'` for the same effect.\n",
      "\n",
      "  fig = sns.barplot(data=df_scores[df_scores['type'] != 1], x='type', y='score', hue='block', ci='sd', palette='pastel')\n"
     ]
    },
    {
     "data": {
      "image/png": "[encoded data removed]",
      "text/plain": [
       "<Figure size 640x480 with 1 Axes>"
      ]
     },
     "metadata": {},
     "output_type": "display_data"
    }
   ],
   "source": [
    "\n",
    "# Assuming df_scores is your DataFrame\n",
    "# Adjust 'type', 'score', and 'block' accordingly\n",
    "fig = sns.barplot(data=df_scores[df_scores['type'] != 1], x='type', y='score', hue='block', ci='sd', palette='pastel')\n",
    "\n"
   ]
  },
  {
   "cell_type": "code",
   "execution_count": 15,
   "metadata": {},
   "outputs": [
    {
     "data": {
      "text/plain": [
       "0      1\n",
       "1      1\n",
       "2      1\n",
       "3      1\n",
       "4      1\n",
       "      ..\n",
       "159    9\n",
       "160    9\n",
       "161    9\n",
       "162    9\n",
       "163    9\n",
       "Name: subject, Length: 1476, dtype: int64"
      ]
     },
     "execution_count": 15,
     "metadata": {},
     "output_type": "execute_result"
    }
   ],
   "source": [
    "df_scores['subject']"
   ]
  },
  {
   "cell_type": "code",
   "execution_count": 16,
   "metadata": {},
   "outputs": [
    {
     "name": "stdout",
     "output_type": "stream",
     "text": [
      "1\n",
      "2\n",
      "3\n",
      "4\n",
      "5\n",
      "6\n",
      "7\n",
      "8\n",
      "9\n"
     ]
    }
   ],
   "source": [
    "df_fl = pd.DataFrame()\n",
    "for subject in df_scores['subject'].unique():\n",
    "    print(subject)\n",
    "\n",
    "    df_sub = df_scores[df_scores['subject']==subject]\n",
    "    #df_sub = df_scores[(df_scores['subject']==subject) & (df_scores['type']!=1)]\n",
    "\n",
    "    df_flsub = pd.concat([df_sub.iloc[0:10], df_sub.iloc[82:92]])\n",
    "    df_fl = pd.concat([df_fl, df_flsub])\n",
    "\n",
    "\n"
   ]
  },
  {
   "cell_type": "code",
   "execution_count": 17,
   "metadata": {},
   "outputs": [
    {
     "data": {
      "text/plain": [
       "Text(0.5, 1.0, 'Scores for the first 10 trials of each block')"
      ]
     },
     "execution_count": 17,
     "metadata": {},
     "output_type": "execute_result"
    },
    {
     "data": {
      "image/png": "[encoded data removed]",
      "text/plain": [
       "<Figure size 640x480 with 1 Axes>"
      ]
     },
     "metadata": {},
     "output_type": "display_data"
    }
   ],
   "source": [
    "fig = sns.barplot(data = df_fl, x = 'type', y = 'score', hue = 'block', palette= 'pastel')\n",
    "fig.set_title('Scores for the first 10 trials of each block')\n",
    "#fig.set_ylim(3,4.5)"
   ]
  }
 ],
 "metadata": {
  "kernelspec": {
   "display_name": "psychopie",
   "language": "python",
   "name": "python3"
  },
  "language_info": {
   "codemirror_mode": {
    "name": "ipython",
    "version": 3
   },
   "file_extension": ".py",
   "mimetype": "text/x-python",
   "name": "python",
   "nbconvert_exporter": "python",
   "pygments_lexer": "ipython3",
   "version": "3.10.13"
  },
  "orig_nbformat": 4
 },
 "nbformat": 4,
 "nbformat_minor": 2
}
