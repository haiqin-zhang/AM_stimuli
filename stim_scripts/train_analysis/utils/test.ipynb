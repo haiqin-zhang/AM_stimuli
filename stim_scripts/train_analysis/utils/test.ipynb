{
 "cells": [
  {
   "cell_type": "code",
   "execution_count": 1,
   "metadata": {},
   "outputs": [],
   "source": [
    "import numpy as np"
   ]
  },
  {
   "cell_type": "code",
   "execution_count": 2,
   "metadata": {},
   "outputs": [],
   "source": [
    "def pad_vec(vec):\n",
    "    while len(vec)<4:\n",
    "        vec.append(0)\n",
    "    return np.array(vec)"
   ]
  },
  {
   "cell_type": "code",
   "execution_count": 3,
   "metadata": {},
   "outputs": [],
   "source": [
    "def calc_score(correct_notes, played_notes):\n",
    "    correct_array = pad_vec(correct_notes)\n",
    "    played_array = pad_vec(played_notes)\n",
    "\n",
    "    exact_matches = np.sum(correct_array == played_array) #notes that were correct and in the correct position\n",
    "    differences = np.abs(correct_array - played_array) #notes that were wrong: how far off are they?\n",
    "\n",
    "    partial_scores = [1 - 0.1 * x if x < 40 and x != 0 else 0 for x in differences]\n",
    "\n",
    "    total_score = exact_matches + np.sum(partial_scores)\n",
    "    \n",
    "    return total_score\n",
    "\n",
    "a = [57, 57, 57, 55]\n",
    "b = [60, 59, 59, 57]\n",
    "\n",
    "calc_score(a, b)\n"
   ]
  }
 ],
 "metadata": {
  "kernelspec": {
   "display_name": "psychopie",
   "language": "python",
   "name": "python3"
  },
  "language_info": {
   "codemirror_mode": {
    "name": "ipython",
    "version": 3
   },
   "file_extension": ".py",
   "mimetype": "text/x-python",
   "name": "python",
   "nbconvert_exporter": "python",
   "pygments_lexer": "ipython3",
   "version": "3.10.13"
  },
  "orig_nbformat": 4
 },
 "nbformat": 4,
 "nbformat_minor": 2
}
