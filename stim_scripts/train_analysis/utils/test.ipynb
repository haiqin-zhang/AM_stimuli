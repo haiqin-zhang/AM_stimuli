{
 "cells": [
  {
   "cell_type": "code",
   "execution_count": 1,
   "metadata": {},
   "outputs": [],
   "source": [
    "import numpy as np"
   ]
  },
  {
   "cell_type": "code",
   "execution_count": 2,
   "metadata": {},
   "outputs": [],
   "source": [
    "def pad_vec(vec):\n",
    "    while len(vec)<4:\n",
    "        vec.append(0)\n",
    "    return np.array(vec)"
   ]
  },
  {
   "cell_type": "code",
   "execution_count": 9,
   "metadata": {},
   "outputs": [
    {
     "name": "stdout",
     "output_type": "stream",
     "text": [
      "[ 2  4 55 57]\n",
      "[0.8, 0.6, 0, 0]\n"
     ]
    },
    {
     "data": {
      "text/plain": [
       "1.4"
      ]
     },
     "execution_count": 9,
     "metadata": {},
     "output_type": "execute_result"
    }
   ],
   "source": [
    "def calc_score(correct_notes, played_notes):\n",
    "    correct_array = pad_vec(correct_notes)\n",
    "    played_array = pad_vec(played_notes)\n",
    "\n",
    "    exact_matches = np.sum(correct_array == played_array) #notes that were correct and in the correct position\n",
    "    differences = np.abs(correct_array - played_array) #notes that were wrong: how far off are they?\n",
    "\n",
    "    print(differences)\n",
    "\n",
    "    partial_scores = [1 - 0.1 * x if x < 40 and x !=0 else 0 for x in differences]\n",
    "\n",
    "    print(partial_scores)\n",
    "\n",
    "    total_score = exact_matches + np.sum(partial_scores)\n",
    "    \n",
    "    return total_score\n",
    "\n",
    "calc_score([59, 59, 55, 57],[57, 55])"
   ]
  },
  {
   "cell_type": "code",
   "execution_count": 4,
   "metadata": {},
   "outputs": [
    {
     "data": {
      "text/plain": [
       "-7.800000000000001"
      ]
     },
     "execution_count": 4,
     "metadata": {},
     "output_type": "execute_result"
    }
   ],
   "source": []
  }
 ],
 "metadata": {
  "kernelspec": {
   "display_name": "psychopie",
   "language": "python",
   "name": "python3"
  },
  "language_info": {
   "codemirror_mode": {
    "name": "ipython",
    "version": 3
   },
   "file_extension": ".py",
   "mimetype": "text/x-python",
   "name": "python",
   "nbconvert_exporter": "python",
   "pygments_lexer": "ipython3",
   "version": "3.10.13"
  },
  "orig_nbformat": 4
 },
 "nbformat": 4,
 "nbformat_minor": 2
}
